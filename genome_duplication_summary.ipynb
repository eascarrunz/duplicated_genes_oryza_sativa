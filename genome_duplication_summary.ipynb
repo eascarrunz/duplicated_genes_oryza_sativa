{
 "cells": [
  {
   "cell_type": "code",
   "execution_count": 62,
   "metadata": {},
   "outputs": [],
   "source": [
    "import pandas as pd\n",
    "import numpy as np"
   ]
  },
  {
   "cell_type": "code",
   "execution_count": 63,
   "metadata": {},
   "outputs": [],
   "source": [
    "summary = {}"
   ]
  },
  {
   "cell_type": "code",
   "execution_count": 64,
   "metadata": {},
   "outputs": [],
   "source": [
    "genes = pd.read_csv(\"output/master_gene_table.tsv\", sep='\\t')"
   ]
  },
  {
   "cell_type": "code",
   "execution_count": 65,
   "metadata": {},
   "outputs": [
    {
     "data": {
      "text/plain": [
       "np.int64(152)"
      ]
     },
     "execution_count": 65,
     "metadata": {},
     "output_type": "execute_result"
    }
   ],
   "source": [
    "genes[genes[\"hsfamily\"] > 0].groupby(\"hsfamily\")[\"seqid\"].count().max()"
   ]
  },
  {
   "cell_type": "code",
   "execution_count": 66,
   "metadata": {},
   "outputs": [
    {
     "name": "stderr",
     "output_type": "stream",
     "text": [
      "/tmp/ipykernel_450746/431135465.py:2: FutureWarning: Series.__getitem__ treating keys as positions is deprecated. In a future version, integer keys will always be treated as labels (consistent with DataFrame behavior). To access a value by position, use `ser.iloc[pos]`\n",
      "  summary[\"Duplicate_genes_LS\"] = genes[genes[\"lsfamily\"] > 0].groupby(\"lsfamily\").count().sum(0)[0]\n",
      "/tmp/ipykernel_450746/431135465.py:4: FutureWarning: Series.__getitem__ treating keys as positions is deprecated. In a future version, integer keys will always be treated as labels (consistent with DataFrame behavior). To access a value by position, use `ser.iloc[pos]`\n",
      "  summary[\"Duplicate_genes_HS\"] = genes[genes[\"hsfamily\"] > 0].groupby(\"hsfamily\").count().sum(0)[0]\n"
     ]
    }
   ],
   "source": [
    "summary[\"Coding_genes\"] = genes.shape[0]\n",
    "summary[\"Duplicate_genes_LS\"] = genes[genes[\"lsfamily\"] > 0].groupby(\"lsfamily\").count().sum(0)[0]\n",
    "summary[\"Singletons_LS\"] = summary[\"Coding_genes\"] - summary[\"Duplicate_genes_LS\"]\n",
    "summary[\"Duplicate_genes_HS\"] = genes[genes[\"hsfamily\"] > 0].groupby(\"hsfamily\").count().sum(0)[0]\n",
    "summary[\"Singletons_HS\"] = summary[\"Coding_genes\"] - summary[\"Duplicate_genes_HS\"]\n",
    "summary[\"Families_LS\"] = genes[\"lsfamily\"].max()\n",
    "summary[\"Families_HS\"] = genes[\"hsfamily\"].max()\n",
    "summary[\"Largest_family_size_LS\"] = genes[genes[\"lsfamily\"] > 0].groupby(\"lsfamily\")[\"seqid\"].count().max()\n",
    "summary[\"Largest_family_size_HS\"] = genes[genes[\"hsfamily\"] > 0].groupby(\"hsfamily\")[\"seqid\"].count().max()"
   ]
  },
  {
   "cell_type": "code",
   "execution_count": 67,
   "metadata": {},
   "outputs": [],
   "source": [
    "lstags0 = pd.read_csv(\"output/lstags0.tsv\", sep='\\t')\n",
    "lstags1 = pd.read_csv(\"output/lstags1.tsv\", sep='\\t')\n",
    "lstags2 = pd.read_csv(\"output/lstags2.tsv\", sep='\\t')\n",
    "hstags0 = pd.read_csv(\"output/hstags0.tsv\", sep='\\t')\n",
    "hstags1 = pd.read_csv(\"output/hstags1.tsv\", sep='\\t')\n",
    "hstags2 = pd.read_csv(\"output/hstags2.tsv\", sep='\\t')"
   ]
  },
  {
   "cell_type": "code",
   "execution_count": 70,
   "metadata": {},
   "outputs": [],
   "source": [
    "summary[\"TAG0_LS\"] = lstags0.shape[0]\n",
    "summary[\"TAG0_HS\"] = hstags0.shape[0]\n",
    "summary[\"TAG1_LS\"] = lstags1.shape[0]\n",
    "summary[\"TAG1_HS\"] = hstags1.shape[0]\n",
    "summary[\"TAG2_LS\"] = lstags2.shape[0]\n",
    "summary[\"TAG2_HS\"] = hstags2.shape[0]"
   ]
  },
  {
   "cell_type": "code",
   "execution_count": 72,
   "metadata": {},
   "outputs": [],
   "source": [
    "summary[\"Largest_TAG0_size_LS\"] = lstags0[\"size\"].max()\n",
    "summary[\"Largest_TAG0_size_HS\"] = hstags0[\"size\"].max()\n",
    "summary[\"Largest_TAG1_size_LS\"] = lstags1[\"size\"].max()\n",
    "summary[\"Largest_TAG1_size_HS\"] = hstags1[\"size\"].max()\n",
    "summary[\"Largest_TAG2_size_LS\"] = lstags2[\"size\"].max()\n",
    "summary[\"Largest_TAG2_size_HS\"] = hstags2[\"size\"].max()"
   ]
  },
  {
   "cell_type": "code",
   "execution_count": 58,
   "metadata": {},
   "outputs": [
    {
     "data": {
      "text/plain": [
       "{'Coding_genes': 35666,\n",
       " 'Duplicate_genes_LS': np.int64(28451),\n",
       " 'Singletons_LS': np.int64(7215),\n",
       " 'Duplicate_genes_HS': np.int64(23010),\n",
       " 'Singletons_HS': np.int64(12656),\n",
       " 'Families_LS': np.int64(4634),\n",
       " 'Families_HS': np.int64(5787),\n",
       " 'Largest_family_size_LS': np.int64(904),\n",
       " 'Largest_family_size_HS': np.int64(152),\n",
       " 'Larges_TAG0_size_LS': np.int64(19),\n",
       " 'Larges_TAG0_size_HS': np.int64(19),\n",
       " 'Larges_TAG1_size_LS': np.int64(21),\n",
       " 'Larges_TAG1_size_HS': np.int64(19),\n",
       " 'Larges_TAG2_size_LS': np.int64(23),\n",
       " 'Larges_TAG2_size_HS': np.int64(22)}"
      ]
     },
     "execution_count": 58,
     "metadata": {},
     "output_type": "execute_result"
    }
   ],
   "source": [
    "summary"
   ]
  },
  {
   "cell_type": "code",
   "execution_count": 61,
   "metadata": {},
   "outputs": [
    {
     "data": {
      "text/plain": [
       "np.int64(12)"
      ]
     },
     "execution_count": 61,
     "metadata": {},
     "output_type": "execute_result"
    }
   ],
   "source": [
    "genes[\"chromosome\"].max()"
   ]
  },
  {
   "cell_type": "code",
   "execution_count": 73,
   "metadata": {},
   "outputs": [
    {
     "data": {
      "text/html": [
       "<div>\n",
       "<style scoped>\n",
       "    .dataframe tbody tr th:only-of-type {\n",
       "        vertical-align: middle;\n",
       "    }\n",
       "\n",
       "    .dataframe tbody tr th {\n",
       "        vertical-align: top;\n",
       "    }\n",
       "\n",
       "    .dataframe thead th {\n",
       "        text-align: right;\n",
       "    }\n",
       "</style>\n",
       "<table border=\"1\" class=\"dataframe\">\n",
       "  <thead>\n",
       "    <tr style=\"text-align: right;\">\n",
       "      <th></th>\n",
       "      <th>0</th>\n",
       "    </tr>\n",
       "  </thead>\n",
       "  <tbody>\n",
       "    <tr>\n",
       "      <th>Coding_genes</th>\n",
       "      <td>35666</td>\n",
       "    </tr>\n",
       "    <tr>\n",
       "      <th>Duplicate_genes_LS</th>\n",
       "      <td>28451</td>\n",
       "    </tr>\n",
       "    <tr>\n",
       "      <th>Singletons_LS</th>\n",
       "      <td>7215</td>\n",
       "    </tr>\n",
       "    <tr>\n",
       "      <th>Duplicate_genes_HS</th>\n",
       "      <td>23010</td>\n",
       "    </tr>\n",
       "    <tr>\n",
       "      <th>Singletons_HS</th>\n",
       "      <td>12656</td>\n",
       "    </tr>\n",
       "    <tr>\n",
       "      <th>Families_LS</th>\n",
       "      <td>4634</td>\n",
       "    </tr>\n",
       "    <tr>\n",
       "      <th>Families_HS</th>\n",
       "      <td>5787</td>\n",
       "    </tr>\n",
       "    <tr>\n",
       "      <th>Largest_family_size_LS</th>\n",
       "      <td>904</td>\n",
       "    </tr>\n",
       "    <tr>\n",
       "      <th>Largest_family_size_HS</th>\n",
       "      <td>152</td>\n",
       "    </tr>\n",
       "    <tr>\n",
       "      <th>TAG0_LS</th>\n",
       "      <td>1777</td>\n",
       "    </tr>\n",
       "    <tr>\n",
       "      <th>TAG0_HS</th>\n",
       "      <td>1483</td>\n",
       "    </tr>\n",
       "    <tr>\n",
       "      <th>TAG1_LS</th>\n",
       "      <td>2192</td>\n",
       "    </tr>\n",
       "    <tr>\n",
       "      <th>TAG1_HS</th>\n",
       "      <td>1885</td>\n",
       "    </tr>\n",
       "    <tr>\n",
       "      <th>TAG2_LS</th>\n",
       "      <td>2323</td>\n",
       "    </tr>\n",
       "    <tr>\n",
       "      <th>TAG2_HS</th>\n",
       "      <td>2029</td>\n",
       "    </tr>\n",
       "    <tr>\n",
       "      <th>Largest_TAG0_size_LS</th>\n",
       "      <td>19</td>\n",
       "    </tr>\n",
       "    <tr>\n",
       "      <th>Largest_TAG0_size_HS</th>\n",
       "      <td>19</td>\n",
       "    </tr>\n",
       "    <tr>\n",
       "      <th>Largest_TAG1_size_LS</th>\n",
       "      <td>21</td>\n",
       "    </tr>\n",
       "    <tr>\n",
       "      <th>Largest_TAG1_size_HS</th>\n",
       "      <td>19</td>\n",
       "    </tr>\n",
       "    <tr>\n",
       "      <th>Largest_TAG2_size_LS</th>\n",
       "      <td>23</td>\n",
       "    </tr>\n",
       "    <tr>\n",
       "      <th>Largest_TAG2_size_HS</th>\n",
       "      <td>22</td>\n",
       "    </tr>\n",
       "  </tbody>\n",
       "</table>\n",
       "</div>"
      ],
      "text/plain": [
       "                            0\n",
       "Coding_genes            35666\n",
       "Duplicate_genes_LS      28451\n",
       "Singletons_LS            7215\n",
       "Duplicate_genes_HS      23010\n",
       "Singletons_HS           12656\n",
       "Families_LS              4634\n",
       "Families_HS              5787\n",
       "Largest_family_size_LS    904\n",
       "Largest_family_size_HS    152\n",
       "TAG0_LS                  1777\n",
       "TAG0_HS                  1483\n",
       "TAG1_LS                  2192\n",
       "TAG1_HS                  1885\n",
       "TAG2_LS                  2323\n",
       "TAG2_HS                  2029\n",
       "Largest_TAG0_size_LS       19\n",
       "Largest_TAG0_size_HS       19\n",
       "Largest_TAG1_size_LS       21\n",
       "Largest_TAG1_size_HS       19\n",
       "Largest_TAG2_size_LS       23\n",
       "Largest_TAG2_size_HS       22"
      ]
     },
     "execution_count": 73,
     "metadata": {},
     "output_type": "execute_result"
    }
   ],
   "source": [
    "pd.DataFrame({k: [v] for k, v in summary.items()}).transpose()"
   ]
  }
 ],
 "metadata": {
  "kernelspec": {
   "display_name": "Python 3",
   "language": "python",
   "name": "python3"
  },
  "language_info": {
   "codemirror_mode": {
    "name": "ipython",
    "version": 3
   },
   "file_extension": ".py",
   "mimetype": "text/x-python",
   "name": "python",
   "nbconvert_exporter": "python",
   "pygments_lexer": "ipython3",
   "version": "3.12.7"
  }
 },
 "nbformat": 4,
 "nbformat_minor": 2
}
